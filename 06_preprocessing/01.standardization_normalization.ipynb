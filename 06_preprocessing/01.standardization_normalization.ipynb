{
 "cells": [
  {
   "cell_type": "code",
   "execution_count": 1,
   "metadata": {},
   "outputs": [],
   "source": [
    "import pandas as pd\n",
    "import numpy as np"
   ]
  },
  {
   "cell_type": "code",
   "execution_count": 2,
   "metadata": {},
   "outputs": [],
   "source": [
    "df = pd.read_csv(\"D:/OneDrive/egitim/verilen/bogazici-compec-python-ml/Datasets/simple_data.csv\")"
   ]
  },
  {
   "cell_type": "code",
   "execution_count": 3,
   "metadata": {},
   "outputs": [
    {
     "data": {
      "text/html": [
       "<div>\n",
       "<style scoped>\n",
       "    .dataframe tbody tr th:only-of-type {\n",
       "        vertical-align: middle;\n",
       "    }\n",
       "\n",
       "    .dataframe tbody tr th {\n",
       "        vertical-align: top;\n",
       "    }\n",
       "\n",
       "    .dataframe thead th {\n",
       "        text-align: right;\n",
       "    }\n",
       "</style>\n",
       "<table border=\"1\" class=\"dataframe\">\n",
       "  <thead>\n",
       "    <tr style=\"text-align: right;\">\n",
       "      <th></th>\n",
       "      <th>sirano</th>\n",
       "      <th>isim</th>\n",
       "      <th>yas</th>\n",
       "      <th>meslek</th>\n",
       "      <th>sehir</th>\n",
       "      <th>aylik_gelir</th>\n",
       "    </tr>\n",
       "  </thead>\n",
       "  <tbody>\n",
       "    <tr>\n",
       "      <th>0</th>\n",
       "      <td>1</td>\n",
       "      <td>Cemal</td>\n",
       "      <td>35</td>\n",
       "      <td>Isci</td>\n",
       "      <td>Ankara</td>\n",
       "      <td>3500</td>\n",
       "    </tr>\n",
       "    <tr>\n",
       "      <th>1</th>\n",
       "      <td>2</td>\n",
       "      <td>Ceyda</td>\n",
       "      <td>42</td>\n",
       "      <td>Memur</td>\n",
       "      <td>Kayseri</td>\n",
       "      <td>4200</td>\n",
       "    </tr>\n",
       "    <tr>\n",
       "      <th>2</th>\n",
       "      <td>3</td>\n",
       "      <td>Timur</td>\n",
       "      <td>30</td>\n",
       "      <td>Müzisyen</td>\n",
       "      <td>Istanbul</td>\n",
       "      <td>9000</td>\n",
       "    </tr>\n",
       "    <tr>\n",
       "      <th>3</th>\n",
       "      <td>4</td>\n",
       "      <td>Burcu</td>\n",
       "      <td>29</td>\n",
       "      <td>Pazarlamaci</td>\n",
       "      <td>Ankara</td>\n",
       "      <td>4200</td>\n",
       "    </tr>\n",
       "    <tr>\n",
       "      <th>4</th>\n",
       "      <td>5</td>\n",
       "      <td>Yasemin</td>\n",
       "      <td>23</td>\n",
       "      <td>Pazarlamaci</td>\n",
       "      <td>Bursa</td>\n",
       "      <td>4800</td>\n",
       "    </tr>\n",
       "  </tbody>\n",
       "</table>\n",
       "</div>"
      ],
      "text/plain": [
       "   sirano     isim  yas       meslek     sehir  aylik_gelir\n",
       "0       1    Cemal   35         Isci    Ankara         3500\n",
       "1       2    Ceyda   42        Memur   Kayseri         4200\n",
       "2       3    Timur   30     Müzisyen  Istanbul         9000\n",
       "3       4    Burcu   29  Pazarlamaci    Ankara         4200\n",
       "4       5  Yasemin   23  Pazarlamaci     Bursa         4800"
      ]
     },
     "execution_count": 3,
     "metadata": {},
     "output_type": "execute_result"
    }
   ],
   "source": [
    "df.head()"
   ]
  },
  {
   "cell_type": "markdown",
   "metadata": {},
   "source": [
    "# Integer değerleri float yapalım"
   ]
  },
  {
   "cell_type": "code",
   "execution_count": 4,
   "metadata": {},
   "outputs": [],
   "source": [
    "df['yas'] = df['yas'].astype(float)\n",
    "df['aylik_gelir'] = df['aylik_gelir'].astype(float)"
   ]
  },
  {
   "cell_type": "code",
   "execution_count": 5,
   "metadata": {},
   "outputs": [
    {
     "data": {
      "text/plain": [
       "(17, 2)"
      ]
     },
     "execution_count": 5,
     "metadata": {},
     "output_type": "execute_result"
    }
   ],
   "source": [
    "X = df.iloc[:,[2,5]].values\n",
    "X.shape"
   ]
  },
  {
   "cell_type": "code",
   "execution_count": 6,
   "metadata": {},
   "outputs": [
    {
     "data": {
      "text/plain": [
       "array([[   35.,  3500.],\n",
       "       [   42.,  4200.],\n",
       "       [   30.,  9000.],\n",
       "       [   29.,  4200.],\n",
       "       [   23.,  4800.],\n",
       "       [   33.,  4250.],\n",
       "       [   29.,  7300.],\n",
       "       [   31., 12000.],\n",
       "       [   33., 18000.],\n",
       "       [   46., 12000.],\n",
       "       [   47.,  4800.],\n",
       "       [   43.,  4200.],\n",
       "       [   33.,  3750.],\n",
       "       [   37., 14250.],\n",
       "       [   41.,  8700.],\n",
       "       [   46.,  8800.],\n",
       "       [   46.,  8800.]])"
      ]
     },
     "execution_count": 6,
     "metadata": {},
     "output_type": "execute_result"
    }
   ],
   "source": [
    "X"
   ]
  },
  {
   "cell_type": "markdown",
   "metadata": {},
   "source": [
    "# 1. Standardizasyon (Feature scaling)"
   ]
  },
  {
   "cell_type": "markdown",
   "metadata": {},
   "source": [
    "    preprocessing modülü ayrıca, daha sonra test setinde aynı dönüşümü tekrar uygulayabilmek için bir eğitim setindeki ortalama ve standart sapmayı hesaplamak için Transformer API'sini uygulayan bir yardımcı sınıf StandardScaler sağlar."
   ]
  },
  {
   "cell_type": "markdown",
   "metadata": {},
   "source": [
    "## 𝑋_𝑠𝑡𝑎𝑛𝑑𝑎𝑟𝑡=(𝑋 − 𝑋 ̅)/𝜎"
   ]
  },
  {
   "cell_type": "markdown",
   "metadata": {},
   "source": [
    "## Niçin standardizasyon"
   ]
  },
  {
   "cell_type": "code",
   "execution_count": 7,
   "metadata": {},
   "outputs": [],
   "source": [
    "import math"
   ]
  },
  {
   "cell_type": "code",
   "execution_count": 8,
   "metadata": {},
   "outputs": [
    {
     "data": {
      "text/plain": [
       "5300.011415082046"
      ]
     },
     "execution_count": 8,
     "metadata": {},
     "output_type": "execute_result"
    }
   ],
   "source": [
    "#0. vektör(35.,  3500.) ile sonuncu vektör (46.,  8800.) arasındaki mesafeyi hesaplayalım\n",
    "math.sqrt( (math.pow((35 - 46),2) + (math.pow((3500 - 8800), 2)) )  )"
   ]
  },
  {
   "cell_type": "code",
   "execution_count": 9,
   "metadata": {},
   "outputs": [
    {
     "data": {
      "text/plain": [
       "5300.0"
      ]
     },
     "execution_count": 9,
     "metadata": {},
     "output_type": "execute_result"
    }
   ],
   "source": [
    "# Yaşlar 0 olsaydı\n",
    "math.sqrt( (math.pow((0 - 0),2) + (math.pow((3500 - 8800), 2)) )  )"
   ]
  },
  {
   "cell_type": "code",
   "execution_count": 10,
   "metadata": {},
   "outputs": [
    {
     "data": {
      "text/plain": [
       "11.0"
      ]
     },
     "execution_count": 10,
     "metadata": {},
     "output_type": "execute_result"
    }
   ],
   "source": [
    "# Aylık gelirler 0 olsaydı\n",
    "math.sqrt( (math.pow((35 - 46),2) + (math.pow((0 - 0), 2)) )  )"
   ]
  },
  {
   "cell_type": "code",
   "execution_count": 14,
   "metadata": {},
   "outputs": [],
   "source": [
    "# Büyük ölçekli değişkenlerin düşük ölçekli değişkenlerin etkisini yok etmesini önlemek için."
   ]
  },
  {
   "cell_type": "code",
   "execution_count": 11,
   "metadata": {},
   "outputs": [],
   "source": [
    "from sklearn.preprocessing import StandardScaler"
   ]
  },
  {
   "cell_type": "markdown",
   "metadata": {},
   "source": [
    "# Nesne oluşturma"
   ]
  },
  {
   "cell_type": "code",
   "execution_count": 12,
   "metadata": {},
   "outputs": [],
   "source": [
    "scaler = StandardScaler()"
   ]
  },
  {
   "cell_type": "markdown",
   "metadata": {},
   "source": [
    "# Modeli eğitme"
   ]
  },
  {
   "cell_type": "code",
   "execution_count": 13,
   "metadata": {},
   "outputs": [],
   "source": [
    "scaler_model = scaler.fit(X)"
   ]
  },
  {
   "cell_type": "markdown",
   "metadata": {},
   "source": [
    "# Eğitilmiş modelden dönüşüme uğramış yeni değerleri elde etme"
   ]
  },
  {
   "cell_type": "code",
   "execution_count": 14,
   "metadata": {},
   "outputs": [],
   "source": [
    "X_scaled = scaler_model.transform(X)"
   ]
  },
  {
   "cell_type": "code",
   "execution_count": 15,
   "metadata": {},
   "outputs": [
    {
     "data": {
      "text/plain": [
       "array([[-0.23716377, -1.04075511],\n",
       "       [ 0.73602551, -0.8712139 ],\n",
       "       [-0.93229898,  0.29135444],\n",
       "       [-1.07132602, -0.8712139 ],\n",
       "       [-1.90548826, -0.72589285],\n",
       "       [-0.51521786, -0.85910381],\n",
       "       [-1.07132602, -0.12038851],\n",
       "       [-0.79327194,  1.01795965],\n",
       "       [-0.51521786,  2.47117008],\n",
       "       [ 1.29213367,  1.01795965],\n",
       "       [ 1.43116071, -0.72589285],\n",
       "       [ 0.87505255, -0.8712139 ],\n",
       "       [-0.51521786, -0.98020468],\n",
       "       [ 0.04089031,  1.56291356],\n",
       "       [ 0.59699847,  0.21869392],\n",
       "       [ 1.29213367,  0.2429141 ],\n",
       "       [ 1.29213367,  0.2429141 ]])"
      ]
     },
     "execution_count": 15,
     "metadata": {},
     "output_type": "execute_result"
    }
   ],
   "source": [
    "X_scaled"
   ]
  },
  {
   "cell_type": "code",
   "execution_count": 16,
   "metadata": {},
   "outputs": [
    {
     "data": {
      "text/plain": [
       "array([[-0.23716377, -1.04075511],\n",
       "       [ 0.73602551, -0.8712139 ],\n",
       "       [-0.93229898,  0.29135444],\n",
       "       [-1.07132602, -0.8712139 ],\n",
       "       [-1.90548826, -0.72589285],\n",
       "       [-0.51521786, -0.85910381],\n",
       "       [-1.07132602, -0.12038851],\n",
       "       [-0.79327194,  1.01795965],\n",
       "       [-0.51521786,  2.47117008],\n",
       "       [ 1.29213367,  1.01795965],\n",
       "       [ 1.43116071, -0.72589285],\n",
       "       [ 0.87505255, -0.8712139 ],\n",
       "       [-0.51521786, -0.98020468],\n",
       "       [ 0.04089031,  1.56291356],\n",
       "       [ 0.59699847,  0.21869392],\n",
       "       [ 1.29213367,  0.2429141 ],\n",
       "       [ 1.29213367,  0.2429141 ]])"
      ]
     },
     "execution_count": 16,
     "metadata": {},
     "output_type": "execute_result"
    }
   ],
   "source": [
    "X_scaled = scaler.fit_transform(X)\n",
    "X_scaled"
   ]
  },
  {
   "cell_type": "markdown",
   "metadata": {},
   "source": [
    "# 0 ortalama ve 1 aryansı kontrol edelim"
   ]
  },
  {
   "cell_type": "code",
   "execution_count": 17,
   "metadata": {
    "scrolled": true
   },
   "outputs": [
    {
     "data": {
      "text/plain": [
       "array([3.39597631e-16, 3.59189802e-17])"
      ]
     },
     "execution_count": 17,
     "metadata": {},
     "output_type": "execute_result"
    }
   ],
   "source": [
    "X_scaled.mean(axis=0)"
   ]
  },
  {
   "cell_type": "code",
   "execution_count": 18,
   "metadata": {},
   "outputs": [],
   "source": [
    "#Yukarıdaki değer sıfıra çok yakındır."
   ]
  },
  {
   "cell_type": "code",
   "execution_count": 19,
   "metadata": {},
   "outputs": [
    {
     "data": {
      "text/plain": [
       "array([1., 1.])"
      ]
     },
     "execution_count": 19,
     "metadata": {},
     "output_type": "execute_result"
    }
   ],
   "source": [
    "X_scaled.std(axis=0)"
   ]
  },
  {
   "cell_type": "markdown",
   "metadata": {},
   "source": [
    "    Uygulamada genellikle dağılımın şeklini görmezden geliyoruz ve verileri her özelliğin ortalama değerini kaldırarak ortalamak için dönüştürüyoruz, ardından sabit olmayan özellikleri standart sapmalarına bölerek ölçeklendiriyoruz."
   ]
  },
  {
   "cell_type": "markdown",
   "metadata": {},
   "source": [
    "# 2. Normalizasyon"
   ]
  },
  {
   "cell_type": "markdown",
   "metadata": {},
   "source": [
    "    Normalize işlevi, bu işlemi l1 veya l2 normlarını kullanarak tek bir dizi benzeri veri kümesi üzerinde gerçekleştirmek için hızlı ve kolay bir yol sağlar."
   ]
  },
  {
   "cell_type": "markdown",
   "metadata": {},
   "source": [
    "## 𝑋_𝑛𝑜𝑟𝑚=(𝑋 − 𝑋_𝑚𝑖𝑛)/(𝑋_𝑚𝑎𝑥− 𝑋_𝑚𝑖𝑛 )"
   ]
  },
  {
   "cell_type": "code",
   "execution_count": 20,
   "metadata": {},
   "outputs": [],
   "source": [
    "from sklearn.preprocessing import Normalizer\n",
    "normalizer = Normalizer(norm='l2')"
   ]
  },
  {
   "cell_type": "code",
   "execution_count": 21,
   "metadata": {},
   "outputs": [],
   "source": [
    "normalizer_model = normalizer.fit(X)"
   ]
  },
  {
   "cell_type": "code",
   "execution_count": 22,
   "metadata": {},
   "outputs": [],
   "source": [
    "X_normalized = normalizer_model.transform(X)"
   ]
  },
  {
   "cell_type": "code",
   "execution_count": 23,
   "metadata": {},
   "outputs": [
    {
     "data": {
      "text/plain": [
       "array([[0.0099995 , 0.99995   ],\n",
       "       [0.0099995 , 0.99995   ],\n",
       "       [0.00333331, 0.99999444],\n",
       "       [0.0069046 , 0.99997616],\n",
       "       [0.00479161, 0.99998852],\n",
       "       [0.00776447, 0.99996986],\n",
       "       [0.00397257, 0.99999211],\n",
       "       [0.00258332, 0.99999666],\n",
       "       [0.00183333, 0.99999832],\n",
       "       [0.00383331, 0.99999265],\n",
       "       [0.0097912 , 0.99995207],\n",
       "       [0.01023756, 0.99994759],\n",
       "       [0.00879966, 0.99996128],\n",
       "       [0.00259648, 0.99999663],\n",
       "       [0.00471259, 0.9999889 ],\n",
       "       [0.0052272 , 0.99998634],\n",
       "       [0.0052272 , 0.99998634]])"
      ]
     },
     "execution_count": 23,
     "metadata": {},
     "output_type": "execute_result"
    }
   ],
   "source": [
    "X_normalized"
   ]
  },
  {
   "cell_type": "code",
   "execution_count": null,
   "metadata": {},
   "outputs": [],
   "source": []
  }
 ],
 "metadata": {
  "kernelspec": {
   "display_name": "Python 3",
   "language": "python",
   "name": "python3"
  },
  "language_info": {
   "codemirror_mode": {
    "name": "ipython",
    "version": 3
   },
   "file_extension": ".py",
   "mimetype": "text/x-python",
   "name": "python",
   "nbconvert_exporter": "python",
   "pygments_lexer": "ipython3",
   "version": "3.7.1"
  }
 },
 "nbformat": 4,
 "nbformat_minor": 2
}
